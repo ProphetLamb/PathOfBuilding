{
 "cells": [
  {
   "cell_type": "code",
   "execution_count": 2,
   "metadata": {},
   "outputs": [
    {
     "name": "stdout",
     "output_type": "stream",
     "text": [
      "([6.0606060606060606], [7.579999999833535])\n"
     ]
    }
   ],
   "source": [
    "from multiprocessing import Pool\n",
    "import plotly.express as px\n",
    "import pandas as pd\n",
    "\n",
    "from skill_rota_worker import *\n",
    "\n",
    "def test_variety():\n",
    "  \"\"\" compares a variety of skill sets\"\"\"\n",
    "  skill_sets = [\n",
    "    [Skill('Ice Spear', 0)],\n",
    "    [Skill('Ice Spear', 0), Skill('Arc', 0)],\n",
    "    [Skill('Frost Bomb', 2.5), Skill('Arc', 0)],\n",
    "    [Skill('Ice Spear', 0), Skill('Frost Bomb', 2.5)],\n",
    "    [Skill('Frost Bomb', 2.5), Skill('Arc', 0), Skill('Ice Spear', 0)],\n",
    "  ]\n",
    "  atk_rates = subsample([.25, .5, 1, 2, 4, 8, 16, 32, 64, 128], depth=2)\n",
    "\n",
    "  for skills in skill_sets:\n",
    "    plot_skills(skills, atk_rates)\n",
    "\n",
    "def test_interesting():\n",
    "  \"\"\" compares interesting parts a skill set \"\"\"\n",
    "  skill_sets = [\n",
    "    [Skill('Ice Spear', 0)],\n",
    "    [Skill('Ice Spear', 0), Skill('Arc', 0)],\n",
    "    [Skill('Frost Bomb', 2.5), Skill('Arc', 0)],\n",
    "    [Skill('Ice Spear', 0), Skill('Frost Bomb', 2.5)],\n",
    "    [Skill('Frost Bomb', 2.5), Skill('Arc', 0), Skill('Ice Spear', 0)],\n",
    "  ]\n",
    "  atk_rates = subsample([4, 8, 16, 32, 64], depth=6)\n",
    "  for skills in skill_sets:\n",
    "    plot_skills(skills, atk_rates)\n",
    "  \n",
    "def test_transition():\n",
    "  \"\"\" compares at the attack speed where the two heuristics are swapped, to verify that the transition is smooth \"\"\"\n",
    "  skill_sets = [\n",
    "    [Skill('Ice Spear', 0)],\n",
    "    [Skill('Ice Spear', 0), Skill('Arc', 0)],\n",
    "    [Skill('Frost Bomb', 2.5), Skill('Arc', 0)],\n",
    "    [Skill('Ice Spear', 0), Skill('Frost Bomb', 2.5)],\n",
    "    [Skill('Frost Bomb', 2.5), Skill('Arc', 0), Skill('Ice Spear', 0)],\n",
    "  ]\n",
    "  atk_rates = subsample([.5, .75, 1, 1.5], depth=6)\n",
    "  for skills in skill_sets:\n",
    "    plot_skills(skills, atk_rates)\n",
    "\n",
    "def test_parameterized_ice_spear_data_only(akt: float, cdt: float) -> t.Tuple[t.List[float], t.List[float]]:\n",
    "  skills = [Skill('Ice Spear', 0)]\n",
    "  data = SkillSetDef(stt = 0.033, akt = akt, cdt = cdt, skills = skills)\n",
    "  calc, sim = exec(data)\n",
    "  return [1/x for x in calc], [1/x for x in sim]\n",
    "\n",
    "def test_reproduce_issue_6492():\n",
    "  print(test_parameterized_ice_spear_data_only(1/7.575, 1/7.575))\n",
    "\n",
    "def test_reproduce_issue_6492_band():\n",
    "  skills = [Skill('Ice Spear', 0)]\n",
    "  rates = sub sample([2, 4, 6, 8], depth=4)\n",
    "  cdt = 1/7.575\n",
    "  plot_skills(skills, rates, cdt)\n",
    "\n",
    "if __name__ == \"__main__\":\n",
    "  pd.options.plotting.backend = \"plotly\"\n",
    "  #test_variety()\n",
    "  #test_interesting()\n",
    "  #test_transition()\n",
    "  test_reproduce_issue_6492()"
   ]
  }
 ],
 "metadata": {
  "kernelspec": {
   "display_name": "Python 3",
   "language": "python",
   "name": "python3"
  },
  "language_info": {
   "codemirror_mode": {
    "name": "ipython",
    "version": 3
   },
   "file_extension": ".py",
   "mimetype": "text/x-python",
   "name": "python",
   "nbconvert_exporter": "python",
   "pygments_lexer": "ipython3",
   "version": "3.9.7"
  },
  "orig_nbformat": 4,
  "vscode": {
   "interpreter": {
    "hash": "0d3464495de07f690a140fbb5d1bfa97c916f97ea125e3f6d318ab00b67848ab"
   }
  }
 },
 "nbformat": 4,
 "nbformat_minor": 2
}
